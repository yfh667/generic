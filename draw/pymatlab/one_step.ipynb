{
 "cells": [
  {
   "cell_type": "code",
   "id": "initial_id",
   "metadata": {
    "collapsed": true,
    "ExecuteTime": {
     "end_time": "2025-09-04T11:33:28.839183Z",
     "start_time": "2025-09-04T11:33:28.238483Z"
    }
   },
   "source": [
    "# ====================== 环境准备 ======================\n",
    "# 1) 设定环境变量（必须在导入 matplotlib 之前执行）\n",
    "import os\n",
    "from copy import deepcopy\n",
    "from copy import deepcopy\n",
    "\n",
    "os.environ['QT_API'] = 'pyqt5'        # 指定使用 PyQt5 作为 Qt 绑定\n",
    "os.environ['MPLBACKEND'] = 'QtAgg'    # 指定 Matplotlib 后端为 QtAgg（更推荐，替代 TkAgg）\n",
    "\n",
    "# 2) 启动 Qt 事件循环（控制台模式下，让 Qt 窗口能实时响应）\n",
    "%gui qt5\n",
    "from copy import deepcopy\n",
    "\n",
    "# 3) 检查 matplotlib backend\n",
    "import matplotlib as mpl\n",
    "mpl.rcParams.update({\n",
    "    # 这里按系统常见字体给一串候选，存在则自动生效\n",
    "    \"font.sans-serif\": [\"Microsoft YaHei\", \"SimHei\", \"SimSun\",\n",
    "                        \"Noto Sans CJK SC\", \"Source Han Sans SC\",\n",
    "                        \"Arial Unicode MS\", \"DejaVu Sans\"],\n",
    "    \"font.family\": \"sans-serif\",\n",
    "    \"axes.unicode_minus\": False,   # 负号用正常字符，避免被当作缺字形\n",
    "})\n",
    "\n",
    "print(\"backend (before pyplot):\", mpl.get_backend())\n",
    "# 如果不是 QtAgg，强制改为 QtAgg（注意：必须在导入 pyplot 前设置）\n",
    "mpl.rcParams['backend'] = 'QtAgg'\n",
    "\n",
    "# 4) 现在再导入 pyplot\n",
    "import matplotlib.pyplot as plt\n",
    "print(\"backend (after pyplot):\", mpl.get_backend())\n",
    "\n",
    "# ====================== 导入依赖 ======================\n",
    "import sys\n",
    "# 避免反复执行时 Qt 类重复导入导致崩溃：如果已加载，先删除再导入\n",
    "if 'draw.pyqt_draw.pyqt_main2' in sys.modules:\n",
    "    del sys.modules['draw.pyqt_draw.pyqt_main2']\n",
    "\n",
    "from PyQt5 import QtWidgets\n",
    "import pyqtgraph as pg\n",
    "from draw.pyqt_draw.pyqt_main2 import SatelliteViewer\n",
    "import draw.read_snap_xml as read_snap_xml\n",
    "\n",
    "# 配置 pyqtgraph：开启抗锯齿，关闭 OpenGL（更稳定）\n",
    "pg.setConfigOptions(antialias=True)\n",
    "# pg.setConfigOptions(useOpenGL=False)   # 若驱动或 OpenGL 有问题可显式关闭\n",
    "# ====================== 基础参数 ======================\n",
    "# 星座参数：每轨道卫星数 N，轨道平面数 P\n",
    "N = 36\n",
    "P = 18\n",
    "import genaric2.tegnode as tegnode\n",
    "import draw.basic_functio.write2xml as write2xml\n",
    "from config import DATA_DIR,INPUT_DIR\n"
   ],
   "outputs": [
    {
     "name": "stdout",
     "output_type": "stream",
     "text": [
      "backend (before pyplot): QtAgg\n",
      "backend (after pyplot): qtagg\n"
     ]
    }
   ],
   "execution_count": 1
  },
  {
   "metadata": {
    "ExecuteTime": {
     "end_time": "2025-09-04T11:33:29.531403Z",
     "start_time": "2025-09-04T11:33:29.527978Z"
    }
   },
   "cell_type": "code",
   "source": "from draw.pyqt_draw.pyqt_main2 import SatelliteViewer\n",
   "id": "a6f4123e6ee9a3a8",
   "outputs": [],
   "execution_count": 2
  },
  {
   "metadata": {},
   "cell_type": "markdown",
   "source": "import genaric2.tegnode as tegnode",
   "id": "d4decfe5593a4e76"
  },
  {
   "metadata": {
    "ExecuteTime": {
     "end_time": "2025-09-04T11:59:20.690688Z",
     "start_time": "2025-09-04T11:58:51.532289Z"
    }
   },
   "cell_type": "code",
   "source": [
    "start1 =6814\n",
    "\n",
    "end1 = 8485\n",
    "\n",
    "file_path = INPUT_DIR / f\"interplane_links_{start1}_{end1}.xml\"\n",
    "nodes1 = write2xml.xml_to_nodes(file_path, tegnode.tegnode)\n",
    "# nodes1  = write2xml.xml_to_nodes(  rf\"E:\\研究生\\研究进展\\工作记录\\实验记录\\interplane_links_{start_ts}_{end_ts}.xml\", tegnode.tegnode)\n"
   ],
   "id": "9c57a8fb3d9a873",
   "outputs": [],
   "execution_count": 35
  },
  {
   "metadata": {
    "ExecuteTime": {
     "end_time": "2025-09-04T11:59:36.873462Z",
     "start_time": "2025-09-04T11:59:20.720692Z"
    }
   },
   "cell_type": "code",
   "source": [
    "start2 =8485\n",
    "\n",
    "end2 = 9355\n",
    "\n",
    "file_path = INPUT_DIR / f\"interplane_links_{start2}_{end2}.xml\"\n",
    "nodes2 = write2xml.xml_to_nodes(file_path, tegnode.tegnode)\n",
    "# nodes2  = write2xml.xml_to_nodes(  rf\"E:\\研究生\\研究进展\\工作记录\\实验记录\\interplane_links_{start_ts}_{end_ts}.xml\", tegnode.tegnode)\n",
    "#\n",
    "# nodes2  = write2xml.xml_to_nodes( = INPUT_DIR+'interplane_links_{start_ts}_{end_ts}.xml\"', tegnode.tegnode)"
   ],
   "id": "4df1089eb2eecdec",
   "outputs": [],
   "execution_count": 36
  },
  {
   "metadata": {
    "ExecuteTime": {
     "end_time": "2025-09-04T12:00:20.903392Z",
     "start_time": "2025-09-04T11:59:48.539102Z"
    }
   },
   "cell_type": "code",
   "source": [
    "\n",
    "start3 =9355\n",
    "\n",
    "end3 = 10717\n",
    "\n",
    "file_path = INPUT_DIR / f\"interplane_links_{start3}_{end3}.xml\"\n",
    "nodes3 = write2xml.xml_to_nodes(file_path, tegnode.tegnode)\n",
    "#\n",
    "# nodes3  = write2xml.xml_to_nodes(  rf\"E:\\研究生\\研究进展\\工作记录\\实验记录\\interplane_links_{start_ts}_{end_ts}.xml\", tegnode.tegnode)"
   ],
   "id": "25f27cebae944bea",
   "outputs": [],
   "execution_count": 37
  },
  {
   "metadata": {
    "ExecuteTime": {
     "end_time": "2025-09-04T12:00:21.402995Z",
     "start_time": "2025-09-04T12:00:20.923402Z"
    }
   },
   "cell_type": "code",
   "source": "totalnode_raw = {**nodes1, **nodes2,**nodes3 }\n",
   "id": "9d827a23702b43e5",
   "outputs": [],
   "execution_count": 38
  },
  {
   "metadata": {
    "ExecuteTime": {
     "end_time": "2025-09-04T12:00:56.904584Z",
     "start_time": "2025-09-04T12:00:21.421007Z"
    }
   },
   "cell_type": "code",
   "source": "totalnode = deepcopy(totalnode_raw)",
   "id": "20ac1d57e5e49689",
   "outputs": [],
   "execution_count": 39
  },
  {
   "metadata": {},
   "cell_type": "code",
   "source": "",
   "id": "750b6d315925577",
   "outputs": [],
   "execution_count": null
  },
  {
   "metadata": {
    "ExecuteTime": {
     "end_time": "2025-09-04T12:01:25.873112Z",
     "start_time": "2025-09-04T12:01:06.538636Z"
    }
   },
   "cell_type": "code",
   "source": [
    "# ====================== 读取数据 ======================\n",
    "# xml_file = r\"E:\\Data\\station_visible_satellites_648_1d_real.xml\"\n",
    "\n",
    "\n",
    "xml_file = DATA_DIR / \"station_visible_satellites_648_1d_real.xml\"\n",
    "\n",
    "# 解析 XML 得到 group_data，结构：{time_step: {'groups': {...}}}\n",
    "group_data = read_snap_xml.parse_xml_group_data(xml_file, start1, end3)\n"
   ],
   "id": "1076483aba966de4",
   "outputs": [],
   "execution_count": 40
  },
  {
   "metadata": {},
   "cell_type": "code",
   "source": "rev_group_data,offset = read_snap_xml.modify_group_data(group_data, N=36, groupid=4)",
   "id": "c51dbf886922874f",
   "outputs": [],
   "execution_count": null
  },
  {
   "metadata": {},
   "cell_type": "markdown",
   "source": "## 处理冲突边我们现在就需要将汇总的nodes，重新进行一次冲突边处理,我们一开始就是分而治之，所以，这里我们需要将汇总的nodes，重新进行一次冲突边处理",
   "id": "18c361a1fb5aa144"
  },
  {
   "metadata": {},
   "cell_type": "markdown",
   "source": "",
   "id": "9d06ba233f22b094"
  },
  {
   "metadata": {},
   "cell_type": "markdown",
   "source": "在进行操作的时候，一定要留意，我们代码中，有可能会修改totalnode内容的。下面的作用就是将总的totalnode转为边，这样我们就获得整个区间的情况",
   "id": "9bbeaad5bceda6b1"
  },
  {
   "metadata": {
    "ExecuteTime": {
     "end_time": "2025-09-04T12:01:31.346046Z",
     "start_time": "2025-09-04T12:01:25.884117Z"
    }
   },
   "cell_type": "code",
   "source": [
    "import draw.basic_functio.transnodes as transnodes\n",
    "totalnode_comple = transnodes.transnodes(totalnode)"
   ],
   "id": "4cbbd438ae65221c",
   "outputs": [],
   "execution_count": 41
  },
  {
   "metadata": {
    "ExecuteTime": {
     "end_time": "2025-09-04T12:02:35.631311Z",
     "start_time": "2025-09-04T12:01:40.269973Z"
    }
   },
   "cell_type": "code",
   "source": [
    "time_2_build=60\n",
    "import draw.basic_functio.conflict_link as conflict_link\n",
    "# 这个是目前最新的，仍然有小bug，但是暂时不修了，等后面再修\n",
    "raw_edges_by_step,pending_edges,modifynodes = conflict_link.get_no_conflict_link_nodes3(totalnode_comple , start1, end3,time_2_build,N,P)\n"
   ],
   "id": "5618645ec3d40466",
   "outputs": [],
   "execution_count": 42
  },
  {
   "metadata": {
    "ExecuteTime": {
     "end_time": "2025-09-04T12:02:35.652471Z",
     "start_time": "2025-09-04T12:02:35.649320Z"
    }
   },
   "cell_type": "code",
   "source": [
    "\n",
    "# 这里，我们需要将nodes 信息转化为edge信息,注意，这个edge也只有inter-edge，并且是原始\n",
    "import draw.basic_functio.inter_edge2nodes as inter_edge2nodes\n",
    "\n",
    "# all_inter_edge = inter_edge2nodes.trans_nodes2edges(totalnode,P,N)\n",
    "\n",
    "all_inter_edge = raw_edges_by_step"
   ],
   "id": "f8dd8271f8cc72c5",
   "outputs": [],
   "execution_count": 43
  },
  {
   "metadata": {},
   "cell_type": "code",
   "source": "",
   "id": "de2abdbea4b257b8",
   "outputs": [],
   "execution_count": null
  },
  {
   "metadata": {
    "ExecuteTime": {
     "end_time": "2025-09-04T11:47:49.754527Z",
     "start_time": "2025-09-04T11:47:49.750912Z"
    }
   },
   "cell_type": "code",
   "source": [
    "# 转化为inter-edge信息后，我们可以通过绘图来查看是否是争取的\n",
    "\n",
    "# ====================== 绘图初始化 ======================\n",
    "# 1) QApplication 实例（全局唯一）\n",
    "app = QtWidgets.QApplication.instance() or QtWidgets.QApplication([])\n",
    "\n",
    "# 2) 确保 viewer 有全局引用，避免 GC 回收导致崩溃\n",
    "if not hasattr(sys.modules[__name__], \"_viewer_list\"):\n",
    "    _viewer_list = []\n",
    "\n"
   ],
   "id": "f14850259524b882",
   "outputs": [],
   "execution_count": 29
  },
  {
   "metadata": {
    "ExecuteTime": {
     "end_time": "2025-09-04T11:47:50.208156Z",
     "start_time": "2025-09-04T11:47:49.796061Z"
    }
   },
   "cell_type": "code",
   "source": [
    "\n",
    "# 3) 创建并配置 viewer\n",
    "viewer = SatelliteViewer(group_data)\n",
    "viewer.setWindowTitle(\"onestep\")\n",
    "viewer.resize(1200, 700)\n",
    "# viewer.edges_by_step = all_inter_edge\n",
    "# viewer.pending_links_by_step =pending_edges\n",
    "\n",
    "viewer.edges_by_step = raw_edges_by_step\n",
    "viewer.pending_links_by_step =pending_edges\n",
    "viewer.show()\n",
    "\n"
   ],
   "id": "45ac543b7e77631f",
   "outputs": [],
   "execution_count": 30
  },
  {
   "metadata": {},
   "cell_type": "markdown",
   "source": "肉眼检查后没问题，记录下一段区间。",
   "id": "c7c625bb1bc1c5f2"
  },
  {
   "metadata": {
    "ExecuteTime": {
     "end_time": "2025-09-04T12:02:36.185722Z",
     "start_time": "2025-09-04T12:02:35.668477Z"
    }
   },
   "cell_type": "code",
   "source": [
    "\n",
    "\n",
    "start, end = start2, end2\n",
    "filternodes = {}\n",
    "\n",
    "for step in range(start, end):\n",
    "    for x in range(P):\n",
    "        for y in range(N):\n",
    "            key = (x, y, step)\n",
    "            if key in modifynodes:        # 只保留存在的键\n",
    "                filternodes[key] = modifynodes[key]\n"
   ],
   "id": "47bc935024fd6352",
   "outputs": [],
   "execution_count": 44
  },
  {
   "metadata": {},
   "cell_type": "code",
   "outputs": [],
   "execution_count": null,
   "source": "",
   "id": "9afeb4a7c3e8702"
  },
  {
   "metadata": {},
   "cell_type": "markdown",
   "source": "再次检查",
   "id": "3316ddaab9b99c28"
  },
  {
   "metadata": {
    "ExecuteTime": {
     "end_time": "2025-09-04T11:40:27.760362Z",
     "start_time": "2025-09-04T11:40:26.611742Z"
    }
   },
   "cell_type": "code",
   "source": [
    "\n",
    "# 这里，我们需要将nodes 信息转化为edge信息,注意，这个edge也只有inter-edge，并且是原始\n",
    "import draw.basic_functio.inter_edge2nodes as inter_edge2nodes\n",
    "all_inter_edge = inter_edge2nodes.trans_nodes2edges(filternodes,P,N)\n",
    "time_2_build = 60\n",
    "# 这里，我们还需要将pending edges 信息也加入到all_inter_edge 中\n",
    "pending_edges = inter_edge2nodes.trans_nodes2_pendingedges(filternodes, start1, end3, time_2_build,P, N)\n"
   ],
   "id": "76dd7b39a3b6d5d4",
   "outputs": [],
   "execution_count": 15
  },
  {
   "metadata": {
    "ExecuteTime": {
     "end_time": "2025-09-04T11:40:28.097925Z",
     "start_time": "2025-09-04T11:40:27.761371Z"
    }
   },
   "cell_type": "code",
   "source": [
    "# 转化为inter-edge信息后，我们可以通过绘图来查看是否是争取的\n",
    "\n",
    "# ====================== 绘图初始化 ======================\n",
    "# 1) QApplication 实例（全局唯一）\n",
    "app = QtWidgets.QApplication.instance() or QtWidgets.QApplication([])\n",
    "\n",
    "# 2) 确保 viewer 有全局引用，避免 GC 回收导致崩溃\n",
    "if not hasattr(sys.modules[__name__], \"_viewer_list\"):\n",
    "    _viewer_list = []\n",
    "\n",
    "\n",
    "# 3) 创建并配置 viewer\n",
    "viewer = SatelliteViewer(group_data)\n",
    "viewer.setWindowTitle(\"flitter node grpah two-auth\")\n",
    "viewer.resize(1200, 700)\n",
    "viewer.edges_by_step = all_inter_edge\n",
    "viewer.pending_links_by_step =pending_edges\n",
    "viewer.show()\n",
    "\n"
   ],
   "id": "5323ac9b5ba9a317",
   "outputs": [],
   "execution_count": 16
  },
  {
   "metadata": {},
   "cell_type": "markdown",
   "source": "检查无误后，存入到文件夹内",
   "id": "5399f6a7e80aed61"
  },
  {
   "metadata": {
    "ExecuteTime": {
     "end_time": "2025-09-04T11:49:18.955478Z",
     "start_time": "2025-09-04T11:48:58.089601Z"
    }
   },
   "cell_type": "code",
   "source": [
    "\n",
    "file_path = INPUT_DIR / f\"onestep/interplane_links_{start}_{end}.xml\"\n",
    "\n",
    "\n",
    "write2xml.nodes_to_xml2(\n",
    "    filternodes,\n",
    "   file_path\n",
    ")\n"
   ],
   "id": "21f47b853eae91ca",
   "outputs": [],
   "execution_count": 34
  },
  {
   "metadata": {},
   "cell_type": "code",
   "outputs": [],
   "execution_count": null,
   "source": "",
   "id": "36466be7336e046b"
  },
  {
   "metadata": {
    "ExecuteTime": {
     "end_time": "2025-09-04T12:02:36.909484Z",
     "start_time": "2025-09-04T12:02:36.202736Z"
    }
   },
   "cell_type": "code",
   "source": [
    "start, end = start3, end3\n",
    "\n",
    "filternodes = {}\n",
    "\n",
    "for step in range(start, end):\n",
    "    for x in range(P):\n",
    "        for y in range(N):\n",
    "            key = (x, y, step)\n",
    "            if key in modifynodes:        # 只保留存在的键\n",
    "                filternodes[key] = modifynodes[key]\n"
   ],
   "id": "4a357fbae99570e8",
   "outputs": [],
   "execution_count": 45
  },
  {
   "metadata": {
    "ExecuteTime": {
     "end_time": "2025-09-04T12:03:26.789561Z",
     "start_time": "2025-09-04T12:02:36.927493Z"
    }
   },
   "cell_type": "code",
   "source": [
    "\n",
    "file_path = INPUT_DIR / f\"onestep/interplane_links_{start}_{end}.xml\"\n",
    "\n",
    "\n",
    "write2xml.nodes_to_xml2(\n",
    "    filternodes,\n",
    "   file_path\n",
    ")"
   ],
   "id": "28f9a9d44b48329a",
   "outputs": [],
   "execution_count": 46
  }
 ],
 "metadata": {
  "kernelspec": {
   "display_name": "Python 3",
   "language": "python",
   "name": "python3"
  },
  "language_info": {
   "codemirror_mode": {
    "name": "ipython",
    "version": 2
   },
   "file_extension": ".py",
   "mimetype": "text/x-python",
   "name": "python",
   "nbconvert_exporter": "python",
   "pygments_lexer": "ipython2",
   "version": "2.7.6"
  }
 },
 "nbformat": 4,
 "nbformat_minor": 5
}
