{
 "cells": [
  {
   "cell_type": "code",
   "id": "initial_id",
   "metadata": {
    "collapsed": true,
    "ExecuteTime": {
     "end_time": "2025-09-04T08:51:56.145314Z",
     "start_time": "2025-09-04T08:51:56.135982Z"
    }
   },
   "source": [
    "# ====================== 环境准备 ======================\n",
    "# 1) 设定环境变量（必须在导入 matplotlib 之前执行）\n",
    "import os\n",
    "\n",
    "from draw.basic_functio.get_rectangular_size_interval import calc_envelope_for_group\n",
    "\n",
    "os.environ['QT_API'] = 'pyqt5'        # 指定使用 PyQt5 作为 Qt 绑定\n",
    "os.environ['MPLBACKEND'] = 'QtAgg'    # 指定 Matplotlib 后端为 QtAgg（更推荐，替代 TkAgg）\n",
    "\n",
    "# 2) 启动 Qt 事件循环（控制台模式下，让 Qt 窗口能实时响应）\n",
    "%gui qt5\n",
    "\n",
    "# 3) 检查 matplotlib backend\n",
    "import matplotlib as mpl\n",
    "mpl.rcParams.update({\n",
    "    # 这里按系统常见字体给一串候选，存在则自动生效\n",
    "    \"font.sans-serif\": [\"Microsoft YaHei\", \"SimHei\", \"SimSun\",\n",
    "                        \"Noto Sans CJK SC\", \"Source Han Sans SC\",\n",
    "                        \"Arial Unicode MS\", \"DejaVu Sans\"],\n",
    "    \"font.family\": \"sans-serif\",\n",
    "    \"axes.unicode_minus\": False,   # 负号用正常字符，避免被当作缺字形\n",
    "})\n",
    "\n",
    "print(\"backend (before pyplot):\", mpl.get_backend())\n",
    "# 如果不是 QtAgg，强制改为 QtAgg（注意：必须在导入 pyplot 前设置）\n",
    "mpl.rcParams['backend'] = 'QtAgg'\n",
    "\n",
    "# 4) 现在再导入 pyplot\n",
    "import matplotlib.pyplot as plt\n",
    "print(\"backend (after pyplot):\", mpl.get_backend())\n",
    "from config import DATA_DIR,INPUT_DIR\n"
   ],
   "outputs": [
    {
     "name": "stdout",
     "output_type": "stream",
     "text": [
      "backend (before pyplot): QtAgg\n",
      "backend (after pyplot): QtAgg\n"
     ]
    }
   ],
   "execution_count": 48
  },
  {
   "metadata": {
    "ExecuteTime": {
     "end_time": "2025-09-04T07:57:49.978776Z",
     "start_time": "2025-09-04T07:57:49.853150Z"
    }
   },
   "cell_type": "code",
   "source": [
    "\n",
    "# ====================== 导入依赖 ======================\n",
    "import sys\n",
    "# 避免反复执行时 Qt 类重复导入导致崩溃：如果已加载，先删除再导入\n",
    "if 'draw.pyqt_draw.pyqt_main2' in sys.modules:\n",
    "    del sys.modules['draw.pyqt_draw.pyqt_main2']\n",
    "\n",
    "from PyQt5 import QtWidgets\n",
    "import pyqtgraph as pg\n",
    "from draw.pyqt_draw.pyqt_main2 import SatelliteViewer\n",
    "import draw.read_snap_xml as read_snap_xml\n",
    "import draw.read_snap_xml as read_snap_xml\n",
    "# 配置 pyqtgraph：开启抗锯齿，关闭 OpenGL（更稳定）\n",
    "pg.setConfigOptions(antialias=True)"
   ],
   "id": "4e0fbc76f99510f4",
   "outputs": [],
   "execution_count": 3
  },
  {
   "metadata": {
    "ExecuteTime": {
     "end_time": "2025-09-04T07:57:51.068847Z",
     "start_time": "2025-09-04T07:57:51.065023Z"
    }
   },
   "cell_type": "code",
   "source": "from config import DATA_DIR",
   "id": "cf0e17073964730c",
   "outputs": [],
   "execution_count": 4
  },
  {
   "metadata": {
    "ExecuteTime": {
     "end_time": "2025-09-04T07:57:51.953187Z",
     "start_time": "2025-09-04T07:57:51.949628Z"
    }
   },
   "cell_type": "code",
   "source": [
    "file_in = DATA_DIR\n",
    "# xml_file = r\"DATA_DIR\\station_visible_satellites_648_1d_real.xml\"\n",
    "xml_file = DATA_DIR / \"station_visible_satellites_648_1d_real.xml\"\n",
    "\n"
   ],
   "id": "9396f4e59afb3670",
   "outputs": [],
   "execution_count": 5
  },
  {
   "metadata": {
    "ExecuteTime": {
     "end_time": "2025-09-04T08:34:00.564843Z",
     "start_time": "2025-09-04T08:33:34.778533Z"
    }
   },
   "cell_type": "code",
   "source": [
    "# ====================== 基础参数 ======================\n",
    "# 星座参数：每轨道卫星数 N，轨道平面数 P\n",
    "N = 36\n",
    "P = 18\n",
    "\n",
    "# ====================== 读取数据 ======================\n",
    "\n",
    "start_ts = 6814\n",
    "# end_ts   = 86399\n",
    "end_ts   = 8485\n",
    "# 解析 XML 得到 group_data，结构：{time_step: {'groups': {...}}}\n",
    "group_data = read_snap_xml.parse_xml_group_data(xml_file, start_ts, end_ts)\n",
    "\n",
    "#下面是图变换的。\n",
    "#"
   ],
   "id": "a96a84efe93ec4ba",
   "outputs": [],
   "execution_count": 20
  },
  {
   "metadata": {},
   "cell_type": "code",
   "outputs": [],
   "execution_count": null,
   "source": "",
   "id": "d8aebe78687a9d62"
  },
  {
   "metadata": {
    "ExecuteTime": {
     "end_time": "2025-09-04T08:34:00.674478Z",
     "start_time": "2025-09-04T08:34:00.604848Z"
    }
   },
   "cell_type": "code",
   "source": "rev_group_data,offset = read_snap_xml.modify_group_data(group_data, N=36, groupid=4)",
   "id": "e82a9ffeb7b8829d",
   "outputs": [],
   "execution_count": 21
  },
  {
   "metadata": {},
   "cell_type": "markdown",
   "source": "下面主要是为了测试检测我们的图",
   "id": "6961ef4b8e8fdd34"
  },
  {
   "metadata": {
    "ExecuteTime": {
     "end_time": "2025-09-04T08:37:12.113793Z",
     "start_time": "2025-09-04T08:37:12.109863Z"
    }
   },
   "cell_type": "code",
   "source": [
    "\n",
    "# ====================== 绘图初始化 ======================\n",
    "# 1) QApplication 实例（全局唯一）\n",
    "app = QtWidgets.QApplication.instance() or QtWidgets.QApplication([])\n",
    "\n",
    "# 2) 确保 viewer 有全局引用，避免 GC 回收导致崩溃\n",
    "if not hasattr(sys.modules[__name__], \"_viewer_list\"):\n",
    "    _viewer_list = []"
   ],
   "id": "5597133213d8b518",
   "outputs": [],
   "execution_count": 22
  },
  {
   "metadata": {
    "ExecuteTime": {
     "end_time": "2025-09-04T07:58:19.853527Z",
     "start_time": "2025-09-04T07:58:19.081470Z"
    }
   },
   "cell_type": "code",
   "source": [
    "\n",
    "\n",
    "# 3) 创建并配置 viewer\n",
    "viewer = SatelliteViewer(group_data)\n",
    "viewer.setWindowTitle(\"group_data\")\n",
    "viewer.resize(1200, 700)\n",
    "# viewer.edges_by_step =\n",
    "# viewer.pending_links_by_step =\n",
    "viewer.show()\n",
    "\n"
   ],
   "id": "efb5eaa2ecb24ed6",
   "outputs": [],
   "execution_count": 8
  },
  {
   "metadata": {
    "ExecuteTime": {
     "end_time": "2025-09-04T08:37:13.839482Z",
     "start_time": "2025-09-04T08:37:13.589679Z"
    }
   },
   "cell_type": "code",
   "source": [
    "# 3) 创建并配置 viewer\n",
    "viewer = SatelliteViewer(rev_group_data)\n",
    "viewer.setWindowTitle(\"rev_group_data\")\n",
    "viewer.resize(1200, 700)\n",
    "# viewer.edges_by_step =\n",
    "# viewer.pending_links_by_step =\n",
    "viewer.show()\n"
   ],
   "id": "e61af06acf3de5df",
   "outputs": [],
   "execution_count": 23
  },
  {
   "metadata": {
    "ExecuteTime": {
     "end_time": "2025-09-04T08:37:23.415988Z",
     "start_time": "2025-09-04T08:37:23.413288Z"
    }
   },
   "cell_type": "code",
   "source": [
    "# 4) 保存全局引用,只要放入到这个容器里，就能持久存在\n",
    "_viewer_list.append(viewer)"
   ],
   "id": "d73de739b986c76",
   "outputs": [],
   "execution_count": 24
  },
  {
   "metadata": {
    "ExecuteTime": {
     "end_time": "2025-09-04T08:37:24.416658Z",
     "start_time": "2025-09-04T08:37:24.381043Z"
    }
   },
   "cell_type": "code",
   "source": [
    "\n",
    "# get the rectangular size of the group\n",
    "# 同样是计算block尺寸\n",
    "import draw.basic_functio.get_rectangular_size_interval as get_rectangular_size_interval\n",
    "t1,t2=get_rectangular_size_interval.calc_envelope_for_group(rev_group_data,[start_ts,end_ts],0,P,N)\n",
    "t3,t4=get_rectangular_size_interval.calc_envelope_for_group(rev_group_data,[start_ts,end_ts],4,P,N)"
   ],
   "id": "2ec724916a2758f7",
   "outputs": [],
   "execution_count": 25
  },
  {
   "metadata": {},
   "cell_type": "markdown",
   "source": "下面主要是为了确认，我们的包络矩形是否正确",
   "id": "2c9047f8fb42bd5c"
  },
  {
   "metadata": {
    "ExecuteTime": {
     "end_time": "2025-09-04T08:37:25.505645Z",
     "start_time": "2025-09-04T08:37:25.502140Z"
    }
   },
   "cell_type": "code",
   "source": [
    "\n",
    "# ====================== 静态包络矩形 ======================\n",
    "#可选\n",
    "# rects = {\n",
    "#     4: [(9, 15, 32, 35)],\n",
    "#     0: [(0, 5, 9, 13), (17, 17, 30, 32)],\n",
    "# }\n",
    "rects = {\n",
    "    0: (t1, t2),\n",
    "    4: (t3, t4),\n",
    "}\n",
    "\n"
   ],
   "id": "f1d83bda882555e2",
   "outputs": [],
   "execution_count": 26
  },
  {
   "metadata": {
    "ExecuteTime": {
     "end_time": "2025-09-04T08:37:26.376142Z",
     "start_time": "2025-09-04T08:37:26.371964Z"
    }
   },
   "cell_type": "code",
   "source": [
    "colors = {4: \"deeppink\", 0: \"orange\"}  # 可选\n",
    "\n",
    "viewer.show_envelopes_static(\n",
    "    rects_by_group=rects,\n",
    "    expand=0.35,\n",
    "    colors=colors,\n",
    "    persist=True\n",
    ")"
   ],
   "id": "731d3a0856d7e4a4",
   "outputs": [],
   "execution_count": 27
  },
  {
   "metadata": {},
   "cell_type": "markdown",
   "source": [
    "## 微调时间区间\n",
    "早些时候的时间区间是通过包络大大小去确定的，但是我们发现，包络矩形的位置也在变化，有时候单纯以大的包络矩形来覆盖位置变化不够精确，因此，在这一步，我们往往会根据包络矩形位置以及大小进一步的细分调整时间.\n",
    "注意，这里，先大致上判断要细调哪个区间\n"
   ],
   "id": "d1bd66a1a90d4b8e"
  },
  {
   "metadata": {
    "ExecuteTime": {
     "end_time": "2025-09-03T06:14:20.228396Z",
     "start_time": "2025-09-03T06:13:49.045320Z"
    }
   },
   "cell_type": "code",
   "source": [
    "df = get_rectangular_size_interval.get_envelope_traces(rev_group_data, groupid=4, P=18, N=36, t0=start_ts, t1=end_ts)\n",
    "\n",
    "# 2. 可直接保存df到csv\n",
    "# df.to_csv('envelope_trace_group4.csv', index=False)\n",
    "\n",
    "# 3. 画随时间变化的包络范围\n",
    "get_rectangular_size_interval.plot_envelope_traces(df)"
   ],
   "id": "6c796b8aac2110d5",
   "outputs": [],
   "execution_count": 17
  },
  {
   "metadata": {},
   "cell_type": "code",
   "source": [
    "\n",
    "# ====================== 计算 Block 尺寸 ======================\n",
    "import draw.basic_show.get_satellite_block_info as get_satellite_block_info\n",
    "\n",
    "\n",
    "times = sorted(group_data.keys())   # 时间序列（所有 step）\n",
    "\n",
    "# 下述代码是为了计算某个区域的块分布\n",
    "groupid = 0  # 目标分组 ID\n",
    "\n",
    "# 存储 Block1/Block2 的长宽随时间变化\n",
    "widths1, heights1, widths2, heights2 = [], [], [], []\n",
    "for t in times:\n",
    "    sats4 = group_data[t]['groups'][groupid]\n",
    "    # 返回：Block1 (长度, 宽度)，Block2 (长度, 宽度)\n",
    "    (l1, w1), (l2, w2) = get_satellite_block_info.get_satellite_block_info(sats4, P, N)\n",
    "    widths1.append(l1); heights1.append(w1)\n",
    "    widths2.append(l2); heights2.append(w2)\n",
    "\n",
    "# ====================== 可视化 ======================\n",
    "# 创建上下两个子图：Block1 和 Block2\n",
    "fig, (ax1, ax2) = plt.subplots(\n",
    "    2, 1, figsize=(12, 8), sharex=True,\n",
    "    gridspec_kw={'height_ratios': [1, 1]}\n",
    ")\n",
    "# -------- Block1 曲线 --------\n",
    "ax1.plot(times, widths1,  label='Block1 Length', color='tab:blue')\n",
    "ax1.plot(times, heights1, label='Block1 Width',  color='tab:orange')\n",
    "ax1.set_ylabel('Block1 Size')\n",
    "ax1.set_title('Block1（一般为主包络）长宽随时间变化')\n",
    "ax1.legend()\n",
    "ax1.grid(alpha=0.3)\n",
    "# -------- Block2 线 --------\n",
    "ax2.plot(times, widths2,  label='Block2 Length', color='tab:green')\n",
    "ax2.plot(times, heights2, label='Block2 Width',  color='tab:red')\n",
    "ax2.set_ylabel('Block2 Size')\n",
    "ax2.set_title('Block2（有时不存在）长宽随时间变化')\n",
    "ax2.legend()\n",
    "ax2.grid(alpha=0.3)\n",
    "# 公共横轴\n",
    "plt.xlabel('Time Step')\n",
    "# 自动调整布局，避免文字重叠\n",
    "plt.tight_layout()\n",
    "# 显示图形（独立 Qt 窗口，不阻塞控制台）\n",
    "plt.show()\n"
   ],
   "id": "e36d52271261fe1d",
   "outputs": [],
   "execution_count": null
  },
  {
   "metadata": {},
   "cell_type": "code",
   "source": [
    "import  importlib\n",
    "importlib.reload(get_rectangular_size_interval)"
   ],
   "id": "e6ee976510290b68",
   "outputs": [],
   "execution_count": null
  },
  {
   "metadata": {},
   "cell_type": "markdown",
   "source": [
    "## 同构图规划\n",
    "确定好包络矩形后，我们就可以开始规划同构图拓扑了"
   ],
   "id": "8a4338c92ad05773"
  },
  {
   "metadata": {},
   "cell_type": "code",
   "source": [
    "#下面代码基本上不需要用的\n",
    "\n",
    "\n",
    "##仅仅为test，不一定运行\n",
    "# 生成无需 step 的边\n",
    "\n",
    "edges = {}\n",
    "for i in range(P - 1):\n",
    "    for j in range(N):\n",
    "        nownode = i * N + j\n",
    "        next_node1 = (i + 1) * N + j\n",
    "        edges.setdefault(nownode, set()).add(next_node1)\n",
    "        upnodes = i * N + (j + 1) % N\n",
    "        edges.setdefault(nownode, set()).add(upnodes)\n",
    "        downnodes = i * N + (j - 1 + N) % N\n",
    "        edges.setdefault(nownode, set()).add(downnodes)"
   ],
   "id": "7d6f119a50029e8",
   "outputs": [],
   "execution_count": null
  },
  {
   "metadata": {},
   "cell_type": "code",
   "source": "",
   "id": "8b6dee8e40d84869",
   "outputs": [],
   "execution_count": null
  },
  {
   "metadata": {
    "ExecuteTime": {
     "end_time": "2025-09-04T08:47:52.192389Z",
     "start_time": "2025-09-04T08:47:52.186907Z"
    }
   },
   "cell_type": "code",
   "source": [
    "\n",
    "# 这里一般就是规划的地方了，这里进行手动规划，\n",
    "nodes = {}\n",
    "\n",
    "import draw.basic_functio.motif as motif\n",
    "# 下面就是motif图案填充，重复图案填充。里面有多种选项。\n",
    "# 1\n",
    "# motif.write_distinct_motif(0, 17, 9, 35, P, N, nodes, option=0)\n",
    "# motif.write_distinct_motif(0, 17, 0, 8, P, N, nodes, option=1)\n",
    "# motif.write_distinct_motif(0, 17, 9, 35, P, N, nodes, option=0)\n",
    "# motif.write_distinct_motif(0, 17, 0, 8, P, N, nodes, option=1)\n",
    "\n",
    "# motif.write_distinct_motif(0, 17, 32, 35, P, N, nodes, option=0)\n",
    "# motif.write_distinct_motif(0, 17, 0, 22, P, N, nodes, option=0)\n",
    "# motif.write_distinct_motif(0, 17, 23, 31, P, N, nodes, option=1)\n",
    "\n",
    "motif.write_distinct_motif(0, 2, 12, 13, P, N, nodes, option=2)\n",
    "motif.write_distinct_motif(0, 2, 9, 11, P, N, nodes, option=0)\n",
    "motif.write_distinct_motif(2, 17, 9, 13, P, N, nodes, option=0)\n",
    "motif.write_distinct_motif(0, 17, 14, 35, P, N, nodes, option=0)\n",
    "motif.write_distinct_motif(0, 17, 0, 8, P, N, nodes, option=1)\n",
    "\n",
    "rev_inter_edge = motif.transform_nodes_2_adjacent(nodes,P,N)"
   ],
   "id": "9845a0cfc9a8aa23",
   "outputs": [],
   "execution_count": 36
  },
  {
   "metadata": {},
   "cell_type": "markdown",
   "source": "",
   "id": "415d786f6938d39"
  },
  {
   "metadata": {},
   "cell_type": "markdown",
   "source": "下面是同构图验证，只需要查看一个拓扑图即可，",
   "id": "aa2bc6c54c7331b1"
  },
  {
   "metadata": {
    "ExecuteTime": {
     "end_time": "2025-09-04T08:47:53.243178Z",
     "start_time": "2025-09-04T08:47:53.102799Z"
    }
   },
   "cell_type": "code",
   "source": [
    "\n",
    "\n",
    "# 3) 下面是同构图设计，我们一般从同构图上设计出 motif，然后，再迁移到我们其他图的显示上去\n",
    "import draw.pyqt_draw.pyqt_onetopology as pyqt_onetopology\n",
    "viewer = pyqt_onetopology.Onetopology(rects)\n",
    "viewer.setWindowTitle(\"Grouped Satellite Visibility - High Performance (PyQtGraph)\")\n",
    "viewer.resize(1200, 700)\n",
    "motif_construct_edge = rev_inter_edge\n",
    "viewer.edges_by_step = motif_construct_edge\n",
    "viewer.show()\n",
    "_viewer_list.append(viewer)"
   ],
   "id": "af14450553c18bf2",
   "outputs": [],
   "execution_count": 37
  },
  {
   "metadata": {
    "ExecuteTime": {
     "end_time": "2025-09-04T08:48:05.836611Z",
     "start_time": "2025-09-04T08:48:05.832959Z"
    }
   },
   "cell_type": "code",
   "source": [
    "\n",
    "# 将同构图的拓扑设计映射到该时间段的同构拓扑设计上去，\n",
    "all_rev_inter_edge = {}\n",
    "for i in range(start_ts,end_ts):\n",
    "    all_rev_inter_edge[i] = rev_inter_edge\n",
    "# here the adj can be used for the qt5 to draw"
   ],
   "id": "652e952a779964c9",
   "outputs": [],
   "execution_count": 38
  },
  {
   "metadata": {},
   "cell_type": "markdown",
   "source": [
    "### 处理冲突链路\n",
    "上述获得的是原始图的边，但是，其存在冲突问题，例如 t=100s是a与b t=101s就是a与c了，考虑到链路建链需要时间，因此，我们这里需要进行一些冲突修正\n",
    "假设建链时间是setuptime  =60s\n",
    "1. 若a与b是区域内链路，a与c是是区域外链路，由于区域内链路是必须保留的，因此，我们认为，a与c的链路是从t=101才开始建链，并且t=160末尾才完成建链，并在t=161时投入使用\n",
    "2. 若a与b是区域外链路，a与c是区域内链路，由于区域内链路是必须保留的，因此，我们认为，a与c的链路在t=101时刻就可投入使用，因此，a与b的链路已经在前60s断链，认为a与c的链路在t=101-60也就是y=41s时开始建链\n",
    "\n"
   ],
   "id": "6cbda50b33b3e9e3"
  },
  {
   "metadata": {
    "ExecuteTime": {
     "end_time": "2025-09-04T08:48:08.631023Z",
     "start_time": "2025-09-04T08:48:07.906036Z"
    }
   },
   "cell_type": "code",
   "source": [
    "\n",
    "# 注意上述我们是在同构拓扑序列上进行的，因此，我们还要将同构拓扑序列进行还原，同时，我们还要考虑到建链时间约束\n",
    "import draw.basic_functio.revdata2rawdata as revdata2rawdata\n",
    "# attention ,here  it just composed of the inter-link, intra_link hasn't benn conclued\n",
    "raw_inter_edge = revdata2rawdata.revedge2rawedge(all_rev_inter_edge,offset)"
   ],
   "id": "73f184f06aab8a59",
   "outputs": [],
   "execution_count": 39
  },
  {
   "metadata": {
    "ExecuteTime": {
     "end_time": "2025-09-04T08:49:55.422150Z",
     "start_time": "2025-09-04T08:49:55.247786Z"
    }
   },
   "cell_type": "code",
   "source": [
    "viewer = SatelliteViewer(group_data)\n",
    "viewer.setWindowTitle(\"groupdata with rawedge\")\n",
    "viewer.resize(1200, 700)\n",
    "viewer.edges_by_step =raw_inter_edge\n",
    "\n",
    "viewer.show()\n"
   ],
   "id": "a7aadd931c036b50",
   "outputs": [],
   "execution_count": 42
  },
  {
   "metadata": {},
   "cell_type": "markdown",
   "source": "",
   "id": "ec0c21ba976191c1"
  },
  {
   "metadata": {},
   "cell_type": "code",
   "source": [
    "# 4) 保存全局引用,只要放入到这个容器里，就能持久存在\n",
    "_viewer_list.append(viewer)"
   ],
   "id": "1b81fa6e5ea3d5af",
   "outputs": [],
   "execution_count": null
  },
  {
   "metadata": {
    "ExecuteTime": {
     "end_time": "2025-09-03T06:21:46.840518Z",
     "start_time": "2025-09-03T06:21:46.684495Z"
    }
   },
   "cell_type": "code",
   "source": [
    "viewer = SatelliteViewer(rev_group_data)\n",
    "viewer.setWindowTitle(\"rev_group_data with rev_group_data\")\n",
    "viewer.resize(1200, 700)\n",
    "viewer.edges_by_step = all_rev_inter_edge\n",
    "\n",
    "viewer.show()\n",
    "_viewer_list.append(viewer)"
   ],
   "id": "4ed6e800676b3bcd",
   "outputs": [],
   "execution_count": 49
  },
  {
   "metadata": {
    "ExecuteTime": {
     "end_time": "2025-09-03T06:22:33.477588Z",
     "start_time": "2025-09-03T06:22:33.205635Z"
    }
   },
   "cell_type": "code",
   "source": [
    "\n",
    "import draw.basic_functio.motif as motif\n",
    "edges_by_step = motif.transform_nodes_2_rawedge(nodes, P, N, start_ts, end_ts)\n",
    "from draw.pyqt_draw.pyqt_main2 import SatelliteViewer\n",
    "\n",
    "\n",
    "# 3) 创建并配置 viewer\n",
    "viewer = SatelliteViewer(group_data)\n",
    "viewer.setWindowTitle(\"group_data\")\n",
    "viewer.resize(1200, 700)\n",
    "viewer.edges_by_step =edges_by_step\n",
    "# viewer.pending_links_by_step =\n",
    "viewer.show()\n",
    "_viewer_list.append(viewer)"
   ],
   "id": "ae95d8c163107ff9",
   "outputs": [],
   "execution_count": 50
  },
  {
   "metadata": {},
   "cell_type": "markdown",
   "source": "我们要处理好建链时间冲突，因此，下面就是处理冲突的代码",
   "id": "8a00e1c7c91ae76e"
  },
  {
   "metadata": {},
   "cell_type": "markdown",
   "source": "",
   "id": "3b5f7cd87b285788"
  },
  {
   "metadata": {
    "ExecuteTime": {
     "end_time": "2025-09-04T08:50:29.677703Z",
     "start_time": "2025-09-04T08:50:26.638614Z"
    }
   },
   "cell_type": "code",
   "source": [
    "\n",
    "import draw.basic_functio.conflict_link as conflict_link\n",
    "\n",
    "# 建链时间约束\n",
    "time_2_build = 60\n",
    "\n",
    "# raw_edges_by_step, pending_links_by_step = conflict_link.get_no_conflict_link(raw_inter_edge,group_data,start_ts,end_ts,time_2_build,N,P)\n",
    "\n",
    "raw_edges_by_step,pending_edges = conflict_link.get_no_conflict_link(raw_inter_edge,offset,rects,start_ts,end_ts,time_2_build,N,P)"
   ],
   "id": "aacadfee7273b4e",
   "outputs": [],
   "execution_count": 43
  },
  {
   "metadata": {},
   "cell_type": "code",
   "source": [
    "import importlib\n",
    "importlib.reload(motif)"
   ],
   "id": "d54b0f480a56abfc",
   "outputs": [],
   "execution_count": null
  },
  {
   "metadata": {
    "ExecuteTime": {
     "end_time": "2025-09-04T08:50:30.064994Z",
     "start_time": "2025-09-04T08:50:29.863007Z"
    }
   },
   "cell_type": "code",
   "source": [
    "\n",
    "# 下面是将实际拓扑进行显示，用于查看效果\n",
    "\n",
    "\n",
    "viewer = SatelliteViewer(group_data)\n",
    "viewer.setWindowTitle(\"groupdata with rawedge\")\n",
    "viewer.resize(1200, 700)\n",
    "viewer.edges_by_step =raw_edges_by_step\n",
    "viewer.pending_links_by_step =pending_edges\n",
    "viewer.show()\n",
    "_viewer_list.append(viewer)"
   ],
   "id": "fb44033d887eeb57",
   "outputs": [],
   "execution_count": 44
  },
  {
   "metadata": {
    "ExecuteTime": {
     "end_time": "2025-09-04T08:51:14.846698Z",
     "start_time": "2025-09-04T08:51:13.174670Z"
    }
   },
   "cell_type": "code",
   "source": [
    "\n",
    "# 下面是把边转为node存储，因为这种方式存储会比较方便\n",
    "import importlib\n",
    "importlib.reload(conflict_link)\n",
    "import draw.basic_functio.inter_edge2nodes as inter_edge2nodes\n",
    "all_nodes = inter_edge2nodes.trans_edge2node(raw_edges_by_step,P,N)"
   ],
   "id": "97aa270742e99a9d",
   "outputs": [],
   "execution_count": 45
  },
  {
   "metadata": {},
   "cell_type": "markdown",
   "source": "",
   "id": "eca46f11ed8cbea2"
  },
  {
   "metadata": {
    "ExecuteTime": {
     "end_time": "2025-09-04T08:52:47.980005Z",
     "start_time": "2025-09-04T08:52:01.320673Z"
    }
   },
   "cell_type": "code",
   "source": [
    "##在检查实际拓扑后，确认无问题后，就将其存入到xml文件里去，注意，我们只要保存异轨链路信息即可，其余不必保存\n",
    "import draw.basic_functio.write2xml as write2xml\n",
    "import genaric2.tegnode as tegnode\n",
    "# 推荐：用 raw string 防止反斜杠转义，并改成有意义的文件名\n",
    "# 这里，我们要把原始的边转为node进行存储\n",
    "all_nodes = inter_edge2nodes.trans_edge2node(raw_edges_by_step,P,N)\n",
    "\n",
    "\n",
    "file_path = INPUT_DIR / f\"interplane_links_{start_ts}_{end_ts}.xml\"\n",
    "\n",
    "\n",
    "write2xml.nodes_to_xml(\n",
    "    all_nodes,\n",
    "   file_path\n",
    ")\n"
   ],
   "id": "1908147e40991180",
   "outputs": [],
   "execution_count": 49
  },
  {
   "metadata": {},
   "cell_type": "code",
   "source": "all_nodes[1,0,3]",
   "id": "51f2eabd582ae9c4",
   "outputs": [],
   "execution_count": null
  },
  {
   "metadata": {},
   "cell_type": "code",
   "source": "raw_edges_by_step[3][35]",
   "id": "348e7c72f46ea4f0",
   "outputs": [],
   "execution_count": null
  }
 ],
 "metadata": {
  "kernelspec": {
   "display_name": "Python 3",
   "language": "python",
   "name": "python3"
  },
  "language_info": {
   "codemirror_mode": {
    "name": "ipython",
    "version": 2
   },
   "file_extension": ".py",
   "mimetype": "text/x-python",
   "name": "python",
   "nbconvert_exporter": "python",
   "pygments_lexer": "ipython2",
   "version": "2.7.6"
  }
 },
 "nbformat": 4,
 "nbformat_minor": 5
}
