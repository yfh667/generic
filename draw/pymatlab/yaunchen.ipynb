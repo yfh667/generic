{
 "cells": [
  {
   "cell_type": "code",
   "id": "initial_id",
   "metadata": {
    "collapsed": true,
    "ExecuteTime": {
     "end_time": "2025-09-04T08:03:09.503610Z",
     "start_time": "2025-09-04T08:03:09.498276Z"
    }
   },
   "source": [
    "# =============== 纯计算版：无 GUI / 无绘图依赖 ===============\n",
    "from copy import deepcopy\n",
    "\n",
    "# 项目配置（路径等）\n",
    "from config import DATA_DIR, INPUT_DIR,OUTPUT_DIR  # 如有 OUTPUT_DIR 也可一起导入\n",
    "\n",
    "# 业务模块（仅计算相关）\n",
    "import genaric2.tegnode as tegnode\n",
    "import draw.read_snap_xml as read_snap_xml\n",
    "import draw.basic_functio.write2xml as write2xml\n",
    "import draw.basic_functio.transnodes as transnodes\n",
    "import draw.basic_functio.conflict_link as conflict_link\n",
    "\n",
    "# 基础参数\n",
    "N = 36\n",
    "P = 18\n"
   ],
   "outputs": [],
   "execution_count": 17
  },
  {
   "metadata": {
    "ExecuteTime": {
     "end_time": "2025-09-04T07:30:08.403597Z",
     "start_time": "2025-09-04T07:30:08.399317Z"
    }
   },
   "cell_type": "code",
   "source": [
    "import genaric2.tegnode as tegnode\n",
    "import draw.basic_functio.write2xml as write2xml\n",
    "\n",
    "# 这里，我们读取到nodes 信息,但是我们需要转化为edge信息，注意这里主要就只有包括inter-edge信息\n"
   ],
   "id": "f0117704125c813c",
   "outputs": [],
   "execution_count": 2
  },
  {
   "metadata": {
    "ExecuteTime": {
     "end_time": "2025-09-04T07:30:55.815158Z",
     "start_time": "2025-09-04T07:30:24.027898Z"
    }
   },
   "cell_type": "code",
   "source": [
    "start_ts =0\n",
    "\n",
    "end_ts = 1204\n",
    "\n",
    "file_path = INPUT_DIR / f\"interplane_links_{start_ts}_{end_ts}.xml\"\n",
    "nodes1 = write2xml.xml_to_nodes(file_path, tegnode.tegnode)\n",
    "# nodes1  = write2xml.xml_to_nodes(  rf\"E:\\研究生\\研究进展\\工作记录\\实验记录\\interplane_links_{start_ts}_{end_ts}.xml\", tegnode.tegnode)\n"
   ],
   "id": "9c57a8fb3d9a873",
   "outputs": [],
   "execution_count": 4
  },
  {
   "metadata": {
    "ExecuteTime": {
     "end_time": "2025-09-04T07:30:08.465797Z",
     "start_time": "2025-09-04T07:30:08.458112Z"
    }
   },
   "cell_type": "code",
   "source": "INPUT_DIR",
   "id": "2c1764972a41acf4",
   "outputs": [
    {
     "data": {
      "text/plain": [
       "PosixPath('/home/yfh/Desktop/generic/data/input')"
      ]
     },
     "execution_count": 3,
     "metadata": {},
     "output_type": "execute_result"
    }
   ],
   "execution_count": 3
  },
  {
   "metadata": {
    "ExecuteTime": {
     "end_time": "2025-09-04T07:32:22.828058Z",
     "start_time": "2025-09-04T07:31:17.426305Z"
    }
   },
   "cell_type": "code",
   "source": [
    "start_ts =1204\n",
    "\n",
    "end_ts = 3669\n",
    "\n",
    "file_path = INPUT_DIR / f\"interplane_links_{start_ts}_{end_ts}.xml\"\n",
    "nodes2 = write2xml.xml_to_nodes(file_path, tegnode.tegnode)\n",
    "# nodes2  = write2xml.xml_to_nodes(  rf\"E:\\研究生\\研究进展\\工作记录\\实验记录\\interplane_links_{start_ts}_{end_ts}.xml\", tegnode.tegnode)\n",
    "#\n",
    "# nodes2  = write2xml.xml_to_nodes( = INPUT_DIR+'interplane_links_{start_ts}_{end_ts}.xml\"', tegnode.tegnode)"
   ],
   "id": "4df1089eb2eecdec",
   "outputs": [],
   "execution_count": 5
  },
  {
   "metadata": {
    "ExecuteTime": {
     "end_time": "2025-09-04T07:32:35.752934Z",
     "start_time": "2025-09-04T07:32:22.862323Z"
    }
   },
   "cell_type": "code",
   "source": [
    "\n",
    "start_ts =3669\n",
    "\n",
    "end_ts = 4094\n",
    "\n",
    "file_path = INPUT_DIR / f\"interplane_links_{start_ts}_{end_ts}.xml\"\n",
    "nodes3 = write2xml.xml_to_nodes(file_path, tegnode.tegnode)\n",
    "#\n",
    "# nodes3  = write2xml.xml_to_nodes(  rf\"E:\\研究生\\研究进展\\工作记录\\实验记录\\interplane_links_{start_ts}_{end_ts}.xml\", tegnode.tegnode)"
   ],
   "id": "25f27cebae944bea",
   "outputs": [],
   "execution_count": 6
  },
  {
   "metadata": {
    "ExecuteTime": {
     "end_time": "2025-09-04T07:33:49.280806Z",
     "start_time": "2025-09-04T07:32:37.553613Z"
    }
   },
   "cell_type": "code",
   "source": [
    "\n",
    "start_ts =4094\n",
    "\n",
    "end_ts = 6814\n",
    "\n",
    "\n",
    "file_path = INPUT_DIR / f\"interplane_links_{start_ts}_{end_ts}.xml\"\n",
    "nodes4 = write2xml.xml_to_nodes(file_path, tegnode.tegnode)\n",
    "\n",
    "# nodes4  = write2xml.xml_to_nodes(  rf\"E:\\研究生\\研究进展\\工作记录\\实验记录\\interplane_links_{start_ts}_{end_ts}.xml\", tegnode.tegnode)"
   ],
   "id": "338b9519f45c2a38",
   "outputs": [],
   "execution_count": 7
  },
  {
   "metadata": {
    "ExecuteTime": {
     "end_time": "2025-09-04T07:33:49.378004Z",
     "start_time": "2025-09-04T07:33:49.374131Z"
    }
   },
   "cell_type": "code",
   "source": [
    "start_ts =0\n",
    "end_ts = 6814"
   ],
   "id": "c6a2d2cdc0e33b46",
   "outputs": [],
   "execution_count": 8
  },
  {
   "metadata": {
    "ExecuteTime": {
     "end_time": "2025-09-04T07:33:50.277110Z",
     "start_time": "2025-09-04T07:33:49.412908Z"
    }
   },
   "cell_type": "code",
   "source": "totalnode_raw = {**nodes1, **nodes2,**nodes3,**nodes4}\n",
   "id": "a0754ac48f6e3683",
   "outputs": [],
   "execution_count": 9
  },
  {
   "metadata": {
    "ExecuteTime": {
     "end_time": "2025-09-04T07:35:52.147655Z",
     "start_time": "2025-09-04T07:33:55.649369Z"
    }
   },
   "cell_type": "code",
   "source": "totalnode = deepcopy(totalnode_raw)",
   "id": "20ac1d57e5e49689",
   "outputs": [],
   "execution_count": 10
  },
  {
   "metadata": {},
   "cell_type": "code",
   "source": "",
   "id": "750b6d315925577",
   "outputs": [],
   "execution_count": null
  },
  {
   "metadata": {
    "ExecuteTime": {
     "end_time": "2025-09-04T07:56:35.812940Z",
     "start_time": "2025-09-04T07:55:45.487351Z"
    }
   },
   "cell_type": "code",
   "source": [
    "# ====================== 读取数据 ======================\n",
    "# xml_file = r\"E:\\Data\\station_visible_satellites_648_1d_real.xml\"\n",
    "\n",
    "\n",
    "xml_file = DATA_DIR / \"station_visible_satellites_648_1d_real.xml\"\n",
    "\n",
    "# 解析 XML 得到 group_data，结构：{time_step: {'groups': {...}}}\n",
    "group_data = read_snap_xml.parse_xml_group_data(xml_file, start_ts, end_ts)\n"
   ],
   "id": "1076483aba966de4",
   "outputs": [],
   "execution_count": 12
  },
  {
   "metadata": {},
   "cell_type": "code",
   "source": "rev_group_data,offset = read_snap_xml.modify_group_data(group_data, N=36, groupid=4)",
   "id": "c51dbf886922874f",
   "outputs": [],
   "execution_count": null
  },
  {
   "metadata": {
    "ExecuteTime": {
     "end_time": "2025-09-04T08:59:41.325808Z",
     "start_time": "2025-09-04T08:59:25.564687Z"
    }
   },
   "cell_type": "code",
   "source": [
    "import draw.basic_functio.transnodes as transnodes\n",
    "totalnode_comple = transnodes.transnodes(totalnode)"
   ],
   "id": "4cbbd438ae65221c",
   "outputs": [],
   "execution_count": 20
  },
  {
   "metadata": {
    "ExecuteTime": {
     "end_time": "2025-09-04T08:59:16.877875Z",
     "start_time": "2025-09-04T08:59:16.869505Z"
    }
   },
   "cell_type": "code",
   "source": [
    "import importlib\n",
    "importlib.reload(transnodes)"
   ],
   "id": "b70d67ec2462466d",
   "outputs": [
    {
     "data": {
      "text/plain": [
       "<module 'draw.basic_functio.transnodes' from '/home/yfh/Desktop/generic/draw/basic_functio/transnodes.py'>"
      ]
     },
     "execution_count": 19,
     "metadata": {},
     "output_type": "execute_result"
    }
   ],
   "execution_count": 19
  },
  {
   "metadata": {
    "ExecuteTime": {
     "end_time": "2025-09-04T09:03:13.534115Z",
     "start_time": "2025-09-04T08:59:41.328354Z"
    }
   },
   "cell_type": "code",
   "source": [
    "time_2_build=60\n",
    "import draw.basic_functio.conflict_link as conflict_link\n",
    "# 这个是目前最新的，仍然有小bug，但是暂时不修了，等后面再修\n",
    "raw_edges_by_step,pending_edges,modifynodes = conflict_link.get_no_conflict_link_nodes3(totalnode_comple ,start_ts,end_ts,time_2_build,N,P)\n"
   ],
   "id": "5618645ec3d40466",
   "outputs": [],
   "execution_count": 21
  },
  {
   "metadata": {},
   "cell_type": "code",
   "outputs": [],
   "execution_count": null,
   "source": "",
   "id": "e857c233c8b82197"
  },
  {
   "metadata": {
    "ExecuteTime": {
     "end_time": "2025-09-04T09:10:07.326818Z",
     "start_time": "2025-09-04T09:03:13.537262Z"
    }
   },
   "cell_type": "code",
   "source": [
    "\n",
    "file_path = OUTPUT_DIR / f\"interplane_links_{start_ts}_{end_ts}.xml\"\n",
    "\n",
    "write2xml.nodes_to_xml2(\n",
    "    modifynodes,\n",
    "   file_path\n",
    ")"
   ],
   "id": "78582b3fd3be7f45",
   "outputs": [],
   "execution_count": 22
  }
 ],
 "metadata": {
  "kernelspec": {
   "display_name": "Python 3",
   "language": "python",
   "name": "python3"
  },
  "language_info": {
   "codemirror_mode": {
    "name": "ipython",
    "version": 2
   },
   "file_extension": ".py",
   "mimetype": "text/x-python",
   "name": "python",
   "nbconvert_exporter": "python",
   "pygments_lexer": "ipython2",
   "version": "2.7.6"
  }
 },
 "nbformat": 4,
 "nbformat_minor": 5
}
