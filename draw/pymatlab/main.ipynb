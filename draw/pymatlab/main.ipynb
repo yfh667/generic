{
 "cells": [
  {
   "cell_type": "code",
   "id": "initial_id",
   "metadata": {
    "collapsed": true,
    "ExecuteTime": {
     "end_time": "2025-08-25T02:42:17.512309Z",
     "start_time": "2025-08-25T02:42:16.837371Z"
    }
   },
   "source": [
    "# ====================== 环境准备 ======================\n",
    "# 1) 设定环境变量（必须在导入 matplotlib 之前执行）\n",
    "import os\n",
    "os.environ['QT_API'] = 'pyqt5'        # 指定使用 PyQt5 作为 Qt 绑定\n",
    "os.environ['MPLBACKEND'] = 'QtAgg'    # 指定 Matplotlib 后端为 QtAgg（更推荐，替代 TkAgg）\n",
    "\n",
    "# 2) 启动 Qt 事件循环（控制台模式下，让 Qt 窗口能实时响应）\n",
    "%gui qt5\n",
    "\n",
    "# 3) 检查 matplotlib backend\n",
    "import matplotlib as mpl\n",
    "mpl.rcParams.update({\n",
    "    # 这里按系统常见字体给一串候选，存在则自动生效\n",
    "    \"font.sans-serif\": [\"Microsoft YaHei\", \"SimHei\", \"SimSun\",\n",
    "                        \"Noto Sans CJK SC\", \"Source Han Sans SC\",\n",
    "                        \"Arial Unicode MS\", \"DejaVu Sans\"],\n",
    "    \"font.family\": \"sans-serif\",\n",
    "    \"axes.unicode_minus\": False,   # 负号用正常字符，避免被当作缺字形\n",
    "})\n",
    "\n",
    "print(\"backend (before pyplot):\", mpl.get_backend())\n",
    "# 如果不是 QtAgg，强制改为 QtAgg（注意：必须在导入 pyplot 前设置）\n",
    "mpl.rcParams['backend'] = 'QtAgg'\n",
    "\n",
    "# 4) 现在再导入 pyplot\n",
    "import matplotlib.pyplot as plt\n",
    "print(\"backend (after pyplot):\", mpl.get_backend())\n",
    "\n"
   ],
   "outputs": [
    {
     "name": "stdout",
     "output_type": "stream",
     "text": [
      "backend (before pyplot): QtAgg\n",
      "backend (after pyplot): qtagg\n"
     ]
    }
   ],
   "execution_count": 1
  },
  {
   "metadata": {
    "ExecuteTime": {
     "end_time": "2025-08-25T02:42:20.851342Z",
     "start_time": "2025-08-25T02:42:20.666012Z"
    }
   },
   "cell_type": "code",
   "source": [
    "\n",
    "# ====================== 导入依赖 ======================\n",
    "import sys\n",
    "# 避免反复执行时 Qt 类重复导入导致崩溃：如果已加载，先删除再导入\n",
    "if 'draw.pyqt_draw.pyqt_main2' in sys.modules:\n",
    "    del sys.modules['draw.pyqt_draw.pyqt_main2']\n",
    "\n",
    "from PyQt5 import QtWidgets\n",
    "import pyqtgraph as pg\n",
    "from draw.pyqt_draw.pyqt_main2 import SatelliteViewer\n",
    "import draw.read_snap_xml as read_snap_xml\n",
    "\n",
    "# 配置 pyqtgraph：开启抗锯齿，关闭 OpenGL（更稳定）\n",
    "pg.setConfigOptions(antialias=True)"
   ],
   "id": "4e0fbc76f99510f4",
   "outputs": [],
   "execution_count": 2
  },
  {
   "metadata": {
    "ExecuteTime": {
     "end_time": "2025-08-25T02:45:20.795684Z",
     "start_time": "2025-08-25T02:44:58.000193Z"
    }
   },
   "cell_type": "code",
   "source": [
    "# ====================== 基础参数 ======================\n",
    "# 星座参数：每轨道卫星数 N，轨道平面数 P\n",
    "N = 36\n",
    "P = 18\n",
    "\n",
    "# ====================== 读取数据 ======================\n",
    "xml_file = r\"E:\\Data\\station_visible_satellites_648_1d_real.xml\"\n",
    "start_ts = 0\n",
    "# end_ts   = 86399\n",
    "end_ts   = 1203\n",
    "# 解析 XML 得到 group_data，结构：{time_step: {'groups': {...}}}\n",
    "group_data = read_snap_xml.parse_xml_group_data(xml_file, start_ts, end_ts)\n",
    "\n",
    "#下面是图变换的。\n",
    "#"
   ],
   "id": "a96a84efe93ec4ba",
   "outputs": [],
   "execution_count": 9
  },
  {
   "metadata": {
    "ExecuteTime": {
     "end_time": "2025-08-25T02:45:46.092324Z",
     "start_time": "2025-08-25T02:45:46.058300Z"
    }
   },
   "cell_type": "code",
   "source": "rev_group_data,offset = read_snap_xml.modify_group_data(group_data, N=36, groupid=4)",
   "id": "e82a9ffeb7b8829d",
   "outputs": [],
   "execution_count": 12
  },
  {
   "metadata": {
    "ExecuteTime": {
     "end_time": "2025-08-25T02:45:49.728232Z",
     "start_time": "2025-08-25T02:45:48.907394Z"
    }
   },
   "cell_type": "code",
   "source": [
    "\n",
    "# ====================== 绘图初始化 ======================\n",
    "# 1) QApplication 实例（全局唯一）\n",
    "app = QtWidgets.QApplication.instance() or QtWidgets.QApplication([])\n",
    "\n",
    "# 2) 确保 viewer 有全局引用，避免 GC 回收导致崩溃\n",
    "if not hasattr(sys.modules[__name__], \"_viewer_list\"):\n",
    "    _viewer_list = []\n",
    "\n",
    "# 3) 创建并配置 viewer\n",
    "viewer = SatelliteViewer(group_data)\n",
    "viewer.setWindowTitle(\"Grouped Satellite Visibility - High Performance (PyQtGraph)\")\n",
    "viewer.resize(1200, 700)\n",
    "# viewer.edges_by_step =\n",
    "# viewer.pending_links_by_step =\n",
    "viewer.show()\n",
    "\n"
   ],
   "id": "fcd1cb6aaec1f69c",
   "outputs": [],
   "execution_count": 13
  },
  {
   "metadata": {
    "ExecuteTime": {
     "end_time": "2025-08-22T09:33:14.663556Z",
     "start_time": "2025-08-22T09:33:14.660118Z"
    }
   },
   "cell_type": "code",
   "source": [
    "# 4) 保存全局引用,只要放入到这个容器里，就能持久存在\n",
    "_viewer_list.append(viewer)"
   ],
   "id": "d73de739b986c76",
   "outputs": [],
   "execution_count": 11
  },
  {
   "metadata": {
    "ExecuteTime": {
     "end_time": "2025-08-22T09:33:16.317703Z",
     "start_time": "2025-08-22T09:33:16.313425Z"
    }
   },
   "cell_type": "code",
   "source": [
    "\n",
    "# ====================== 静态包络矩形 ======================\n",
    "#可选\n",
    "rects = {\n",
    "    4: [(9, 15, 32, 35)],\n",
    "    0: [(0, 5, 9, 13), (17, 17, 30, 32)],\n",
    "}\n",
    "# rects = {\n",
    "#     4: (t1, t2),\n",
    "#     0: (t3, t4),\n",
    "# }\n",
    "\n",
    "colors = {4: \"deeppink\", 0: \"orange\"}  # 可选\n",
    "\n",
    "viewer.show_envelopes_static(\n",
    "    rects_by_group=rects,\n",
    "    expand=0.35,\n",
    "    colors=colors,\n",
    "    persist=True\n",
    ")"
   ],
   "id": "c0cafdc261bb53ae",
   "outputs": [],
   "execution_count": 12
  },
  {
   "metadata": {},
   "cell_type": "code",
   "outputs": [],
   "execution_count": null,
   "source": [
    "\n",
    "\n",
    "# ====================== 计算 Block 尺寸 ======================\n",
    "import draw.basic_show.get_satellite_block_info as get_satellite_block_info\n",
    "\n",
    "\n",
    "times = sorted(group_data.keys())   # 时间序列（所有 step）\n",
    "\n",
    "# 下述代码是为了计算某个区域的块分布\n",
    "groupid = 0  # 目标分组 ID\n",
    "\n",
    "# 存储 Block1/Block2 的长宽随时间变化\n",
    "widths1, heights1, widths2, heights2 = [], [], [], []\n",
    "for t in times:\n",
    "    sats4 = group_data[t]['groups'][groupid]\n",
    "    # 返回：Block1 (长度, 宽度)，Block2 (长度, 宽度)\n",
    "    (l1, w1), (l2, w2) = get_satellite_block_info.get_satellite_block_info(sats4, P, N)\n",
    "    widths1.append(l1); heights1.append(w1)\n",
    "    widths2.append(l2); heights2.append(w2)\n",
    "\n",
    "# ====================== 可视化 ======================\n",
    "# 创建上下两个子图：Block1 和 Block2\n",
    "fig, (ax1, ax2) = plt.subplots(\n",
    "    2, 1, figsize=(12, 8), sharex=True,\n",
    "    gridspec_kw={'height_ratios': [1, 1]}\n",
    ")\n",
    "# -------- Block1 曲线 --------\n",
    "ax1.plot(times, widths1,  label='Block1 Length', color='tab:blue')\n",
    "ax1.plot(times, heights1, label='Block1 Width',  color='tab:orange')\n",
    "ax1.set_ylabel('Block1 Size')\n",
    "ax1.set_title('Block1（一般为主包络）长宽随时间变化')\n",
    "ax1.legend()\n",
    "ax1.grid(alpha=0.3)\n",
    "# -------- Block2 线 --------\n",
    "ax2.plot(times, widths2,  label='Block2 Length', color='tab:green')\n",
    "ax2.plot(times, heights2, label='Block2 Width',  color='tab:red')\n",
    "ax2.set_ylabel('Block2 Size')\n",
    "ax2.set_title('Block2（有时不存在）长宽随时间变化')\n",
    "ax2.legend()\n",
    "ax2.grid(alpha=0.3)\n",
    "# 公共横轴\n",
    "plt.xlabel('Time Step')\n",
    "# 自动调整布局，避免文字重叠\n",
    "plt.tight_layout()\n",
    "# 显示图形（独立 Qt 窗口，不阻塞控制台）\n",
    "plt.show()\n"
   ],
   "id": "633f0e6b8ee1158"
  },
  {
   "metadata": {},
   "cell_type": "code",
   "outputs": [],
   "execution_count": null,
   "source": [
    "\n",
    "# get the rectangular size of the group\n",
    "# 同样是计算block尺寸\n",
    "import draw.basic_functio.get_rectangular_size_interval as get_rectangular_size_interval\n",
    "t1,t2=get_rectangular_size_interval.calc_envelope_for_group(group_data,[start_ts,end_ts],groupid,P,N)"
   ],
   "id": "2ec724916a2758f7"
  },
  {
   "metadata": {
    "ExecuteTime": {
     "end_time": "2025-08-22T09:33:41.437961Z",
     "start_time": "2025-08-22T09:33:41.433238Z"
    }
   },
   "cell_type": "code",
   "source": [
    "\n",
    "##\n",
    "# 生成无需 step 的边\n",
    "edges = {}\n",
    "for i in range(P - 1):\n",
    "    for j in range(N):\n",
    "        nownode = i * N + j\n",
    "        next_node1 = (i + 1) * N + j\n",
    "        edges.setdefault(nownode, set()).add(next_node1)\n",
    "        upnodes = i * N + (j + 1) % N\n",
    "        edges.setdefault(nownode, set()).add(upnodes)\n",
    "        downnodes = i * N + (j - 1 + N) % N\n",
    "        edges.setdefault(nownode, set()).add(downnodes)"
   ],
   "id": "4d8771051c0285b9",
   "outputs": [],
   "execution_count": 13
  },
  {
   "metadata": {},
   "cell_type": "code",
   "outputs": [],
   "execution_count": null,
   "source": [
    "\n",
    "\n",
    "# 3) 下面是同构图设计，我们一般从同构图上设计出 motif，然后，再迁移到我们其他图的显示上去\n",
    "import draw.pyqt_draw.pyqt_onetopology as pyqt_onetopology\n",
    "viewer = pyqt_onetopology.Onetopology(rects)\n",
    "viewer.setWindowTitle(\"Grouped Satellite Visibility - High Performance (PyQtGraph)\")\n",
    "viewer.resize(1200, 700)\n",
    "motif_construct_edge = edges\n",
    "viewer.edges_by_step = motif_construct_edge\n",
    "viewer.show()\n",
    "_viewer_list.append(viewer)"
   ],
   "id": "85f24e4fef9545d2"
  },
  {
   "metadata": {
    "ExecuteTime": {
     "end_time": "2025-08-22T09:33:47.182485Z",
     "start_time": "2025-08-22T09:33:47.164467Z"
    }
   },
   "cell_type": "code",
   "source": [
    "\n",
    "nodes = {}\n",
    "\n",
    "import draw.basic_functio.motif as motif\n",
    "# 下面就是motif图案填充，重复图案填充。里面有多种选项。\n",
    "motif.write_distinct_motif(0, 17, 10, 35, P, N, nodes, option=0)\n",
    "motif.write_distinct_motif(0, 17, 0, 9, P, N, nodes, option=1)\n",
    "\n",
    "rev_inter_edge = motif.transform_nodes_2_adjacent(nodes,P,N)"
   ],
   "id": "bb9723b566cfb9de",
   "outputs": [],
   "execution_count": 14
  },
  {
   "metadata": {
    "ExecuteTime": {
     "end_time": "2025-08-22T09:33:51.278673Z",
     "start_time": "2025-08-22T09:33:51.275951Z"
    }
   },
   "cell_type": "code",
   "source": [
    "all_rev_inter_edge = {}\n",
    "for i in range(start_ts,end_ts):\n",
    "    all_rev_inter_edge[i] = rev_inter_edge\n",
    "# here the adj can be used for the qt5 to draw"
   ],
   "id": "652e952a779964c9",
   "outputs": [],
   "execution_count": 15
  },
  {
   "metadata": {
    "ExecuteTime": {
     "end_time": "2025-08-22T09:33:55.406510Z",
     "start_time": "2025-08-22T09:33:53.171766Z"
    }
   },
   "cell_type": "code",
   "source": [
    "import draw.basic_functio.revdata2rawdata as revdata2rawdata\n",
    "# attention ,here  it just composed of the inter-link, intra_link hasn't benn conclued\n",
    "raw_inter_edge = revdata2rawdata.revedge2rawedge(all_rev_inter_edge,offset)\n",
    "import draw.basic_functio.conflict_link as conflict_link\n",
    "time_2_build = 60\n",
    "raw_edges_by_step, pending_links_by_step = conflict_link.get_no_conflict_link(raw_inter_edge,start_ts,end_ts,time_2_build,N,P)\n"
   ],
   "id": "aacadfee7273b4e",
   "outputs": [
    {
     "name": "stdout",
     "output_type": "stream",
     "text": [
      "44\n",
      "33: (0,2) from None to (1, 1), (0,1) from (1, 1) to None, (0,11) from (1, 10) to (1, 11), (0,1) from (1, 1) to None, (1,2) from None to (2, 1), (1,1) from (2, 1) to None, (1,11) from (2, 10) to (2, 11), (1,1) from (2, 1) to None, (2,2) from None to (3, 1), (2,1) from (3, 1) to None, (2,11) from (3, 10) to (3, 11), (2,1) from (3, 1) to None, (3,2) from None to (4, 1), (3,1) from (4, 1) to None, (3,11) from (4, 10) to (4, 11), (3,1) from (4, 1) to None, (4,2) from None to (5, 1), (4,1) from (5, 1) to None, (4,11) from (5, 10) to (5, 11), (4,1) from (5, 1) to None, (5,2) from None to (6, 1), (5,1) from (6, 1) to None, (5,11) from (6, 10) to (6, 11), (5,1) from (6, 1) to None, (6,2) from None to (7, 1), (6,1) from (7, 1) to None, (6,11) from (7, 10) to (7, 11), (6,1) from (7, 1) to None, (7,2) from None to (8, 1), (7,1) from (8, 1) to None, (7,11) from (8, 10) to (8, 11), (7,1) from (8, 1) to None, (8,2) from None to (9, 1), (8,1) from (9, 1) to None, (8,11) from (9, 10) to (9, 11), (8,1) from (9, 1) to None, (9,2) from None to (10, 1), (9,1) from (10, 1) to None, (9,11) from (10, 10) to (10, 11), (9,1) from (10, 1) to None, (10,2) from None to (11, 1), (10,1) from (11, 1) to None, (10,11) from (11, 10) to (11, 11), (10,1) from (11, 1) to None, (11,2) from None to (12, 1), (11,1) from (12, 1) to None, (11,11) from (12, 10) to (12, 11), (11,1) from (12, 1) to None, (12,2) from None to (13, 1), (12,1) from (13, 1) to None, (12,11) from (13, 10) to (13, 11), (12,1) from (13, 1) to None, (13,2) from None to (14, 1), (13,1) from (14, 1) to None, (13,11) from (14, 10) to (14, 11), (13,1) from (14, 1) to None, (14,2) from None to (15, 1), (14,1) from (15, 1) to None, (14,11) from (15, 10) to (15, 11), (14,1) from (15, 1) to None, (15,2) from None to (16, 1), (15,1) from (16, 1) to None, (15,11) from (16, 10) to (16, 11), (15,1) from (16, 1) to None, (16,2) from None to (17, 1), (16,1) from (17, 1) to None, (16,11) from (17, 10) to (17, 11)\n",
      "205: (0,1) from None to (1, 0), (0,0) from (1, 0) to None, (0,10) from (1, 9) to (1, 10), (0,0) from (1, 0) to None, (1,1) from None to (2, 0), (1,0) from (2, 0) to None, (1,10) from (2, 9) to (2, 10), (1,0) from (2, 0) to None, (2,1) from None to (3, 0), (2,0) from (3, 0) to None, (2,10) from (3, 9) to (3, 10), (2,0) from (3, 0) to None, (3,1) from None to (4, 0), (3,0) from (4, 0) to None, (3,10) from (4, 9) to (4, 10), (3,0) from (4, 0) to None, (4,1) from None to (5, 0), (4,0) from (5, 0) to None, (4,10) from (5, 9) to (5, 10), (4,0) from (5, 0) to None, (5,1) from None to (6, 0), (5,0) from (6, 0) to None, (5,10) from (6, 9) to (6, 10), (5,0) from (6, 0) to None, (6,1) from None to (7, 0), (6,0) from (7, 0) to None, (6,10) from (7, 9) to (7, 10), (6,0) from (7, 0) to None, (7,1) from None to (8, 0), (7,0) from (8, 0) to None, (7,10) from (8, 9) to (8, 10), (7,0) from (8, 0) to None, (8,1) from None to (9, 0), (8,0) from (9, 0) to None, (8,10) from (9, 9) to (9, 10), (8,0) from (9, 0) to None, (9,1) from None to (10, 0), (9,0) from (10, 0) to None, (9,10) from (10, 9) to (10, 10), (9,0) from (10, 0) to None, (10,1) from None to (11, 0), (10,0) from (11, 0) to None, (10,10) from (11, 9) to (11, 10), (10,0) from (11, 0) to None, (11,1) from None to (12, 0), (11,0) from (12, 0) to None, (11,10) from (12, 9) to (12, 10), (11,0) from (12, 0) to None, (12,1) from None to (13, 0), (12,0) from (13, 0) to None, (12,10) from (13, 9) to (13, 10), (12,0) from (13, 0) to None, (13,1) from None to (14, 0), (13,0) from (14, 0) to None, (13,10) from (14, 9) to (14, 10), (13,0) from (14, 0) to None, (14,1) from None to (15, 0), (14,0) from (15, 0) to None, (14,10) from (15, 9) to (15, 10), (14,0) from (15, 0) to None, (15,1) from None to (16, 0), (15,0) from (16, 0) to None, (15,10) from (16, 9) to (16, 10), (15,0) from (16, 0) to None, (16,1) from None to (17, 0), (16,0) from (17, 0) to None, (16,10) from (17, 9) to (17, 10)\n",
      "377: (0,0) from None to (1, 35), (0,35) from (1, 35) to None, (0,9) from (1, 8) to (1, 9), (1,0) from None to (2, 35), (1,35) from (2, 35) to None, (1,9) from (2, 8) to (2, 9), (0,35) from (1, 35) to None, (2,0) from None to (3, 35), (2,35) from (3, 35) to None, (2,9) from (3, 8) to (3, 9), (1,35) from (2, 35) to None, (3,0) from None to (4, 35), (3,35) from (4, 35) to None, (3,9) from (4, 8) to (4, 9), (2,35) from (3, 35) to None, (4,0) from None to (5, 35), (4,35) from (5, 35) to None, (4,9) from (5, 8) to (5, 9), (3,35) from (4, 35) to None, (5,0) from None to (6, 35), (5,35) from (6, 35) to None, (5,9) from (6, 8) to (6, 9), (4,35) from (5, 35) to None, (6,0) from None to (7, 35), (6,35) from (7, 35) to None, (6,9) from (7, 8) to (7, 9), (5,35) from (6, 35) to None, (7,0) from None to (8, 35), (7,35) from (8, 35) to None, (7,9) from (8, 8) to (8, 9), (6,35) from (7, 35) to None, (8,0) from None to (9, 35), (8,35) from (9, 35) to None, (8,9) from (9, 8) to (9, 9), (7,35) from (8, 35) to None, (9,0) from None to (10, 35), (9,35) from (10, 35) to None, (9,9) from (10, 8) to (10, 9), (8,35) from (9, 35) to None, (10,0) from None to (11, 35), (10,35) from (11, 35) to None, (10,9) from (11, 8) to (11, 9), (9,35) from (10, 35) to None, (11,0) from None to (12, 35), (11,35) from (12, 35) to None, (11,9) from (12, 8) to (12, 9), (10,35) from (11, 35) to None, (12,0) from None to (13, 35), (12,35) from (13, 35) to None, (12,9) from (13, 8) to (13, 9), (11,35) from (12, 35) to None, (13,0) from None to (14, 35), (13,35) from (14, 35) to None, (13,9) from (14, 8) to (14, 9), (12,35) from (13, 35) to None, (14,0) from None to (15, 35), (14,35) from (15, 35) to None, (14,9) from (15, 8) to (15, 9), (13,35) from (14, 35) to None, (15,0) from None to (16, 35), (15,35) from (16, 35) to None, (15,9) from (16, 8) to (16, 9), (14,35) from (15, 35) to None, (16,0) from None to (17, 35), (16,35) from (17, 35) to None, (16,9) from (17, 8) to (17, 9), (15,35) from (16, 35) to None\n",
      "549: (0,8) from (1, 7) to (1, 8), (0,35) from None to (1, 34), (0,34) from (1, 34) to None, (1,8) from (2, 7) to (2, 8), (0,34) from (1, 34) to None, (1,35) from None to (2, 34), (1,34) from (2, 34) to None, (2,8) from (3, 7) to (3, 8), (1,34) from (2, 34) to None, (2,35) from None to (3, 34), (2,34) from (3, 34) to None, (3,8) from (4, 7) to (4, 8), (2,34) from (3, 34) to None, (3,35) from None to (4, 34), (3,34) from (4, 34) to None, (4,8) from (5, 7) to (5, 8), (3,34) from (4, 34) to None, (4,35) from None to (5, 34), (4,34) from (5, 34) to None, (5,8) from (6, 7) to (6, 8), (4,34) from (5, 34) to None, (5,35) from None to (6, 34), (5,34) from (6, 34) to None, (6,8) from (7, 7) to (7, 8), (5,34) from (6, 34) to None, (6,35) from None to (7, 34), (6,34) from (7, 34) to None, (7,8) from (8, 7) to (8, 8), (6,34) from (7, 34) to None, (7,35) from None to (8, 34), (7,34) from (8, 34) to None, (8,8) from (9, 7) to (9, 8), (7,34) from (8, 34) to None, (8,35) from None to (9, 34), (8,34) from (9, 34) to None, (9,8) from (10, 7) to (10, 8), (8,34) from (9, 34) to None, (9,35) from None to (10, 34), (9,34) from (10, 34) to None, (10,8) from (11, 7) to (11, 8), (9,34) from (10, 34) to None, (10,35) from None to (11, 34), (10,34) from (11, 34) to None, (11,8) from (12, 7) to (12, 8), (10,34) from (11, 34) to None, (11,35) from None to (12, 34), (11,34) from (12, 34) to None, (12,8) from (13, 7) to (13, 8), (11,34) from (12, 34) to None, (12,35) from None to (13, 34), (12,34) from (13, 34) to None, (13,8) from (14, 7) to (14, 8), (12,34) from (13, 34) to None, (13,35) from None to (14, 34), (13,34) from (14, 34) to None, (14,8) from (15, 7) to (15, 8), (13,34) from (14, 34) to None, (14,35) from None to (15, 34), (14,34) from (15, 34) to None, (15,8) from (16, 7) to (16, 8), (14,34) from (15, 34) to None, (15,35) from None to (16, 34), (15,34) from (16, 34) to None, (16,8) from (17, 7) to (17, 8), (15,34) from (16, 34) to None, (16,35) from None to (17, 34), (16,34) from (17, 34) to None\n",
      "721: (0,7) from (1, 6) to (1, 7), (0,34) from None to (1, 33), (0,33) from (1, 33) to None, (1,7) from (2, 6) to (2, 7), (0,33) from (1, 33) to None, (1,34) from None to (2, 33), (1,33) from (2, 33) to None, (2,7) from (3, 6) to (3, 7), (1,33) from (2, 33) to None, (2,34) from None to (3, 33), (2,33) from (3, 33) to None, (3,7) from (4, 6) to (4, 7), (2,33) from (3, 33) to None, (3,34) from None to (4, 33), (3,33) from (4, 33) to None, (4,7) from (5, 6) to (5, 7), (3,33) from (4, 33) to None, (4,34) from None to (5, 33), (4,33) from (5, 33) to None, (5,7) from (6, 6) to (6, 7), (4,33) from (5, 33) to None, (5,34) from None to (6, 33), (5,33) from (6, 33) to None, (6,7) from (7, 6) to (7, 7), (5,33) from (6, 33) to None, (6,34) from None to (7, 33), (6,33) from (7, 33) to None, (7,7) from (8, 6) to (8, 7), (6,33) from (7, 33) to None, (7,34) from None to (8, 33), (7,33) from (8, 33) to None, (8,7) from (9, 6) to (9, 7), (7,33) from (8, 33) to None, (8,34) from None to (9, 33), (8,33) from (9, 33) to None, (9,7) from (10, 6) to (10, 7), (8,33) from (9, 33) to None, (9,34) from None to (10, 33), (9,33) from (10, 33) to None, (10,7) from (11, 6) to (11, 7), (9,33) from (10, 33) to None, (10,34) from None to (11, 33), (10,33) from (11, 33) to None, (11,7) from (12, 6) to (12, 7), (10,33) from (11, 33) to None, (11,34) from None to (12, 33), (11,33) from (12, 33) to None, (12,7) from (13, 6) to (13, 7), (11,33) from (12, 33) to None, (12,34) from None to (13, 33), (12,33) from (13, 33) to None, (13,7) from (14, 6) to (14, 7), (12,33) from (13, 33) to None, (13,34) from None to (14, 33), (13,33) from (14, 33) to None, (14,7) from (15, 6) to (15, 7), (13,33) from (14, 33) to None, (14,34) from None to (15, 33), (14,33) from (15, 33) to None, (15,7) from (16, 6) to (16, 7), (14,33) from (15, 33) to None, (15,34) from None to (16, 33), (15,33) from (16, 33) to None, (16,7) from (17, 6) to (17, 7), (15,33) from (16, 33) to None, (16,34) from None to (17, 33), (16,33) from (17, 33) to None\n",
      "892: (0,6) from (1, 5) to (1, 6), (0,33) from None to (1, 32), (0,32) from (1, 32) to None, (1,6) from (2, 5) to (2, 6), (0,32) from (1, 32) to None, (1,33) from None to (2, 32), (1,32) from (2, 32) to None, (2,6) from (3, 5) to (3, 6), (1,32) from (2, 32) to None, (2,33) from None to (3, 32), (2,32) from (3, 32) to None, (3,6) from (4, 5) to (4, 6), (2,32) from (3, 32) to None, (3,33) from None to (4, 32), (3,32) from (4, 32) to None, (4,6) from (5, 5) to (5, 6), (3,32) from (4, 32) to None, (4,33) from None to (5, 32), (4,32) from (5, 32) to None, (5,6) from (6, 5) to (6, 6), (4,32) from (5, 32) to None, (5,33) from None to (6, 32), (5,32) from (6, 32) to None, (6,6) from (7, 5) to (7, 6), (5,32) from (6, 32) to None, (6,33) from None to (7, 32), (6,32) from (7, 32) to None, (7,6) from (8, 5) to (8, 6), (6,32) from (7, 32) to None, (7,33) from None to (8, 32), (7,32) from (8, 32) to None, (8,6) from (9, 5) to (9, 6), (7,32) from (8, 32) to None, (8,33) from None to (9, 32), (8,32) from (9, 32) to None, (9,6) from (10, 5) to (10, 6), (8,32) from (9, 32) to None, (9,33) from None to (10, 32), (9,32) from (10, 32) to None, (10,6) from (11, 5) to (11, 6), (9,32) from (10, 32) to None, (10,33) from None to (11, 32), (10,32) from (11, 32) to None, (11,6) from (12, 5) to (12, 6), (10,32) from (11, 32) to None, (11,33) from None to (12, 32), (11,32) from (12, 32) to None, (12,6) from (13, 5) to (13, 6), (11,32) from (12, 32) to None, (12,33) from None to (13, 32), (12,32) from (13, 32) to None, (13,6) from (14, 5) to (14, 6), (12,32) from (13, 32) to None, (13,33) from None to (14, 32), (13,32) from (14, 32) to None, (14,6) from (15, 5) to (15, 6), (13,32) from (14, 32) to None, (14,33) from None to (15, 32), (14,32) from (15, 32) to None, (15,6) from (16, 5) to (16, 6), (14,32) from (15, 32) to None, (15,33) from None to (16, 32), (15,32) from (16, 32) to None, (16,6) from (17, 5) to (17, 6), (15,32) from (16, 32) to None, (16,33) from None to (17, 32), (16,32) from (17, 32) to None\n",
      "1063: (0,5) from (1, 4) to (1, 5), (0,32) from None to (1, 31), (0,31) from (1, 31) to None, (1,5) from (2, 4) to (2, 5), (0,31) from (1, 31) to None, (1,32) from None to (2, 31), (1,31) from (2, 31) to None, (2,5) from (3, 4) to (3, 5), (1,31) from (2, 31) to None, (2,32) from None to (3, 31), (2,31) from (3, 31) to None, (3,5) from (4, 4) to (4, 5), (2,31) from (3, 31) to None, (3,32) from None to (4, 31), (3,31) from (4, 31) to None, (4,5) from (5, 4) to (5, 5), (3,31) from (4, 31) to None, (4,32) from None to (5, 31), (4,31) from (5, 31) to None, (5,5) from (6, 4) to (6, 5), (4,31) from (5, 31) to None, (5,32) from None to (6, 31), (5,31) from (6, 31) to None, (6,5) from (7, 4) to (7, 5), (5,31) from (6, 31) to None, (6,32) from None to (7, 31), (6,31) from (7, 31) to None, (7,5) from (8, 4) to (8, 5), (6,31) from (7, 31) to None, (7,32) from None to (8, 31), (7,31) from (8, 31) to None, (8,5) from (9, 4) to (9, 5), (7,31) from (8, 31) to None, (8,32) from None to (9, 31), (8,31) from (9, 31) to None, (9,5) from (10, 4) to (10, 5), (8,31) from (9, 31) to None, (9,32) from None to (10, 31), (9,31) from (10, 31) to None, (10,5) from (11, 4) to (11, 5), (9,31) from (10, 31) to None, (10,32) from None to (11, 31), (10,31) from (11, 31) to None, (11,5) from (12, 4) to (12, 5), (10,31) from (11, 31) to None, (11,32) from None to (12, 31), (11,31) from (12, 31) to None, (12,5) from (13, 4) to (13, 5), (11,31) from (12, 31) to None, (12,32) from None to (13, 31), (12,31) from (13, 31) to None, (13,5) from (14, 4) to (14, 5), (12,31) from (13, 31) to None, (13,32) from None to (14, 31), (13,31) from (14, 31) to None, (14,5) from (15, 4) to (15, 5), (13,31) from (14, 31) to None, (14,32) from None to (15, 31), (14,31) from (15, 31) to None, (15,5) from (16, 4) to (16, 5), (14,31) from (15, 31) to None, (15,32) from None to (16, 31), (15,31) from (16, 31) to None, (16,5) from (17, 4) to (17, 5), (15,31) from (16, 31) to None, (16,32) from None to (17, 31), (16,31) from (17, 31) to None\n",
      "33:\n",
      "205:\n",
      "377:\n",
      "549:\n",
      "721:\n",
      "892:\n",
      "1063:\n"
     ]
    }
   ],
   "execution_count": 16
  },
  {
   "metadata": {
    "ExecuteTime": {
     "end_time": "2025-08-22T09:34:38.270929Z",
     "start_time": "2025-08-22T09:34:38.086306Z"
    }
   },
   "cell_type": "code",
   "source": [
    "\n",
    "# 3) 创建并配置 viewer\n",
    "viewer = SatelliteViewer(group_data)\n",
    "viewer.setWindowTitle(\"groupdata with rawedge\")\n",
    "viewer.resize(1200, 700)\n",
    "viewer.edges_by_step =raw_edges_by_step\n",
    "viewer.pending_links_by_step =pending_links_by_step\n",
    "viewer.show()\n"
   ],
   "id": "fb44033d887eeb57",
   "outputs": [],
   "execution_count": 17
  }
 ],
 "metadata": {
  "kernelspec": {
   "display_name": "Python 3",
   "language": "python",
   "name": "python3"
  },
  "language_info": {
   "codemirror_mode": {
    "name": "ipython",
    "version": 2
   },
   "file_extension": ".py",
   "mimetype": "text/x-python",
   "name": "python",
   "nbconvert_exporter": "python",
   "pygments_lexer": "ipython2",
   "version": "2.7.6"
  }
 },
 "nbformat": 4,
 "nbformat_minor": 5
}
